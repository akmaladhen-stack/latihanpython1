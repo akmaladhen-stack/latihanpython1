{
  "cells": [
    {
      "cell_type": "markdown",
      "metadata": {
        "id": "view-in-github",
        "colab_type": "text"
      },
      "source": [
        "<a href=\"https://colab.research.google.com/github/akmaladhen-stack/latihanpython1/blob/main/akmalC%2B%2B.ipynb\" target=\"_parent\"><img src=\"https://colab.research.google.com/assets/colab-badge.svg\" alt=\"Open In Colab\"/></a>"
      ]
    },
    {
      "cell_type": "code",
      "source": [
        "%%writefile main.cpp\n",
        "#include <iostream>\n",
        "#include <string>\n",
        "#include <limits>\n",
        "using namespace std;\n",
        "\n",
        "int main() {\n",
        "    string nama, hobi;\n",
        "    int umur;\n",
        "\n",
        "    cout << \"Masukkan nama Anda: \";\n",
        "    getline(cin, nama);\n",
        "\n",
        "    cout << \"Masukkan umur Anda: \";\n",
        "    cin >> umur;\n",
        "    cin.ignore(numeric_limits<streamsize>::max(), '\\n');\n",
        "\n",
        "    cout << \"Masukkan hobi Anda: \";\n",
        "    getline(cin, hobi);\n",
        "\n",
        "    cout << \"\\n--- Hasil ---\" << endl;\n",
        "    cout << \"Nama Anda: \" << nama << endl;\n",
        "    cout << \"Umur Anda: \" << umur << \" tahun\" << endl;\n",
        "    cout << \"Hobi Anda: \" << hobi << endl;\n",
        "\n",
        "    return 0;\n",
        "}"
      ],
      "metadata": {
        "colab": {
          "base_uri": "https://localhost:8080/"
        },
        "id": "5HfxAiF1w1Gi",
        "outputId": "08ab2fbe-2576-4b8d-fc1e-a1b05646335a"
      },
      "execution_count": 2,
      "outputs": [
        {
          "output_type": "stream",
          "name": "stdout",
          "text": [
            "Overwriting main.cpp\n"
          ]
        }
      ]
    },
    {
      "cell_type": "code",
      "source": [
        "%%shell\n",
        "g++ main.cpp -o main\n",
        "./main\n"
      ],
      "metadata": {
        "colab": {
          "base_uri": "https://localhost:8080/"
        },
        "id": "d90h6nR_xB7H",
        "outputId": "9a088ea7-cae6-445b-d9b2-de8334bfed37"
      },
      "execution_count": 4,
      "outputs": [
        {
          "output_type": "stream",
          "name": "stdout",
          "text": [
            "Masukkan nama Anda: akmal\n",
            "Masukkan umur Anda: 18\n",
            "Masukkan hobi Anda: mancing\n",
            "\n",
            "--- Hasil ---\n",
            "Nama Anda: akmal\n",
            "Umur Anda: 18 tahun\n",
            "Hobi Anda: mancing\n"
          ]
        },
        {
          "output_type": "execute_result",
          "data": {
            "text/plain": []
          },
          "metadata": {},
          "execution_count": 4
        }
      ]
    }
  ],
  "metadata": {
    "colab": {
      "provenance": [],
      "include_colab_link": true
    },
    "kernelspec": {
      "display_name": "Python 3",
      "name": "python3"
    }
  },
  "nbformat": 4,
  "nbformat_minor": 0
}