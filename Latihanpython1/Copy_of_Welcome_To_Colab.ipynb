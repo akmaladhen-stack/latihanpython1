{
  "cells": [
    {
      "cell_type": "markdown",
      "metadata": {
        "id": "view-in-github",
        "colab_type": "text"
      },
      "source": [
        "<a href=\"https://colab.research.google.com/github/akmaladhen-stack/latihanpython1/blob/main/Latihanpython1/Copy_of_Welcome_To_Colab.ipynb\" target=\"_parent\"><img src=\"https://colab.research.google.com/assets/colab-badge.svg\" alt=\"Open In Colab\"/></a>"
      ]
    },
    {
      "cell_type": "code",
      "source": [
        "# Program penjumlahan dua bilangan\n",
        "\n",
        "# Meminta input dari pengguna\n",
        "bilangan1 = int(input(\"Masukkan bilangan pertama: \"))\n",
        "bilangan2 = int(input(\"Masukkan bilangan kedua: \"))\n",
        "\n",
        "# Menjumlahkan bilangan\n",
        "hasil = bilangan1 + bilangan2\n",
        "\n",
        "# Menampilkan hasil\n",
        "print(\"Hasil penjumlahan:\", hasil)"
      ],
      "metadata": {
        "colab": {
          "base_uri": "https://localhost:8080/"
        },
        "id": "vNy-VclqTqB6",
        "outputId": "ee75616b-1cd4-4361-e194-1a3e4cb1b5dc"
      },
      "execution_count": null,
      "outputs": [
        {
          "output_type": "stream",
          "name": "stdout",
          "text": [
            "Masukkan bilangan pertama: 1\n",
            "Masukkan bilangan kedua: 1\n",
            "Hasil penjumlahan: 2\n"
          ]
        }
      ]
    },
    {
      "cell_type": "code",
      "source": [
        "# Meminta input dari pengguna\n",
        "nama = input(\"Masukkan nama Anda: \")\n",
        "umur = int(input(\"Masukkan umur Anda: \"))\n",
        "\n",
        "# Mengecek apakah umur >= 18\n",
        "if umur >= 18:\n",
        "    print(f\"Halo {nama}, Anda sudah cukup umur.\")\n",
        "else:\n",
        "    print(f\"Halo {nama}, Anda belum cukup umur.\")"
      ],
      "metadata": {
        "colab": {
          "base_uri": "https://localhost:8080/"
        },
        "id": "j9PKE-dtTygG",
        "outputId": "6aa064bf-9421-4d1b-83b0-06374db287ae"
      },
      "execution_count": null,
      "outputs": [
        {
          "output_type": "stream",
          "name": "stdout",
          "text": [
            "Masukkan nama Anda: akmal\n",
            "Masukkan umur Anda: 18\n",
            "Halo akmal, Anda sudah cukup umur.\n"
          ]
        }
      ]
    },
    {
      "cell_type": "code",
      "source": [
        "# Program Menghitung Luas dan Keliling Persegi Panjang\n",
        "\n",
        "panjang = float(input(\"Masukkan panjang: \"))\n",
        "lebar = float(input(\"Masukkan lebar: \"))\n",
        "\n",
        "luas = panjang * lebar\n",
        "keliling = 2 * (panjang + lebar)\n",
        "\n",
        "print(\"Luas =\", luas)\n",
        "print(\"Keliling =\", keliling)"
      ],
      "metadata": {
        "colab": {
          "base_uri": "https://localhost:8080/"
        },
        "id": "nIZUmHSnUAPy",
        "outputId": "c5b718c6-7746-46ce-b031-2ee7f1e7d56f"
      },
      "execution_count": null,
      "outputs": [
        {
          "output_type": "stream",
          "name": "stdout",
          "text": [
            "Masukkan panjang: 2\n",
            "Masukkan lebar: 10\n",
            "Luas = 20.0\n",
            "Keliling = 24.0\n"
          ]
        }
      ]
    }
  ],
  "metadata": {
    "colab": {
      "provenance": [],
      "include_colab_link": true
    },
    "kernelspec": {
      "display_name": "Python 3",
      "name": "python3"
    }
  },
  "nbformat": 4,
  "nbformat_minor": 0
}