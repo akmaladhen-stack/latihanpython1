{
  "cells": [
    {
      "cell_type": "markdown",
      "metadata": {
        "id": "view-in-github",
        "colab_type": "text"
      },
      "source": [
        "<a href=\"https://colab.research.google.com/github/akmaladhen-stack/latihanpython1/blob/main/python%20input-output.ipynb\" target=\"_parent\"><img src=\"https://colab.research.google.com/assets/colab-badge.svg\" alt=\"Open In Colab\"/></a>"
      ]
    },
    {
      "cell_type": "code",
      "source": [
        "# Program Input Output Sederhana\n",
        "\n",
        "# Meminta input dari pengguna\n",
        "nama = input(\"Masukkan nama Anda: \")\n",
        "umur = input(\"Masukkan umur Anda: \")\n",
        "hobi = input(\"Masukkan hobi Anda: \")\n",
        "\n",
        "# Menampilkan output\n",
        "print(\"\\n--- Informasi Pengguna ---\")\n",
        "print(\"Nama : \", nama)\n",
        "print(\"Umur : \", umur)\n",
        "print(\"Hobi : \", hobi)\n"
      ],
      "metadata": {
        "colab": {
          "base_uri": "https://localhost:8080/"
        },
        "id": "QCzj9_SqtlEA",
        "outputId": "4479f022-bf1b-4bec-cb87-2e2438320782"
      },
      "execution_count": 1,
      "outputs": [
        {
          "output_type": "stream",
          "name": "stdout",
          "text": [
            "Masukkan nama Anda: akmal\n",
            "Masukkan umur Anda: 18\n",
            "Masukkan hobi Anda: mancing\n",
            "\n",
            "--- Informasi Pengguna ---\n",
            "Nama :  akmal\n",
            "Umur :  18\n",
            "Hobi :  mancing\n"
          ]
        }
      ]
    }
  ],
  "metadata": {
    "colab": {
      "provenance": [],
      "include_colab_link": true
    },
    "kernelspec": {
      "display_name": "Python 3",
      "name": "python3"
    }
  },
  "nbformat": 4,
  "nbformat_minor": 0
}